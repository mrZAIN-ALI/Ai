{
  "nbformat": 4,
  "nbformat_minor": 0,
  "metadata": {
    "colab": {
      "provenance": [],
      "authorship_tag": "ABX9TyM+0zM6mfbxL2hGOiKiE24b",
      "include_colab_link": true
    },
    "kernelspec": {
      "name": "python3",
      "display_name": "Python 3"
    },
    "language_info": {
      "name": "python"
    }
  },
  "cells": [
    {
      "cell_type": "markdown",
      "metadata": {
        "id": "view-in-github",
        "colab_type": "text"
      },
      "source": [
        "<a href=\"https://colab.research.google.com/github/mrZAIN-ALI/Ai/blob/main/catVSdog.ipynb\" target=\"_parent\"><img src=\"https://colab.research.google.com/assets/colab-badge.svg\" alt=\"Open In Colab\"/></a>"
      ]
    },
    {
      "cell_type": "markdown",
      "source": [
        "**Downloading Data set**"
      ],
      "metadata": {
        "id": "SRt3crEXTFIP"
      }
    },
    {
      "cell_type": "code",
      "source": [
        "!kaggle competitions download -c dogs-vs-cats"
      ],
      "metadata": {
        "colab": {
          "base_uri": "https://localhost:8080/"
        },
        "id": "ZnihFR1ZUgve",
        "outputId": "8d4720ac-5516-410a-9e1e-39db308d5497"
      },
      "execution_count": 12,
      "outputs": [
        {
          "output_type": "stream",
          "name": "stdout",
          "text": [
            "Downloading dogs-vs-cats.zip to /content\n",
            " 97% 791M/812M [00:09<00:00, 121MB/s]\n",
            "100% 812M/812M [00:09<00:00, 87.5MB/s]\n"
          ]
        }
      ]
    },
    {
      "cell_type": "code",
      "source": [
        "!unzip dogs-vs-cats.zip\n"
      ],
      "metadata": {
        "colab": {
          "base_uri": "https://localhost:8080/"
        },
        "id": "AZyqRtWhVZt9",
        "outputId": "182a1c17-6d2e-4b1d-827a-e9e85c19ef8e"
      },
      "execution_count": 13,
      "outputs": [
        {
          "output_type": "stream",
          "name": "stdout",
          "text": [
            "Archive:  dogs-vs-cats.zip\n",
            "  inflating: sampleSubmission.csv    \n",
            "  inflating: test1.zip               \n",
            "  inflating: train.zip               \n"
          ]
        }
      ]
    },
    {
      "cell_type": "code",
      "source": [
        "import numpy as np\n",
        "import pandas as pd\n",
        "from tensorflow.keras.preprocessing.image import ImageDataGenerator,load_img\n",
        "from keras.utils import to_categorical\n",
        "from sklearn.model_selection import train_test_split\n",
        "import matplotlib.pyplot as plt\n",
        "import random\n",
        "import os"
      ],
      "metadata": {
        "id": "LeJjTE7UTJyv"
      },
      "execution_count": 15,
      "outputs": []
    },
    {
      "cell_type": "code",
      "source": [
        "Image_Width=128\n",
        "Image_Height=128\n",
        "Image_Size=(Image_Width,Image_Height)\n",
        "Image_Channels=3"
      ],
      "metadata": {
        "id": "S5n3bZ-iV8r8"
      },
      "execution_count": 16,
      "outputs": []
    },
    {
      "cell_type": "code",
      "source": [
        "filenames=os.listdir(\"./dogs-vs-cats/train\")\n",
        "\n",
        "categories=[]\n",
        "for f_name in filenames:\n",
        "    category=f_name.split('.')[0]\n",
        "    if category=='dog':\n",
        "        categories.append(1)\n",
        "    else:\n",
        "        categories.append(0)\n",
        "\n",
        "df=pd.DataFrame({\n",
        "    'filename':filenames,\n",
        "    'category':categories\n",
        "})"
      ],
      "metadata": {
        "colab": {
          "base_uri": "https://localhost:8080/",
          "height": 211
        },
        "id": "1J2yKbuEV_JE",
        "outputId": "2108e980-a255-4ba3-8802-58867dc8f868"
      },
      "execution_count": 17,
      "outputs": [
        {
          "output_type": "error",
          "ename": "FileNotFoundError",
          "evalue": "[Errno 2] No such file or directory: './dogs-vs-cats/train'",
          "traceback": [
            "\u001b[0;31m---------------------------------------------------------------------------\u001b[0m",
            "\u001b[0;31mFileNotFoundError\u001b[0m                         Traceback (most recent call last)",
            "\u001b[0;32m<ipython-input-17-f8941835eddb>\u001b[0m in \u001b[0;36m<cell line: 1>\u001b[0;34m()\u001b[0m\n\u001b[0;32m----> 1\u001b[0;31m \u001b[0mfilenames\u001b[0m\u001b[0;34m=\u001b[0m\u001b[0mos\u001b[0m\u001b[0;34m.\u001b[0m\u001b[0mlistdir\u001b[0m\u001b[0;34m(\u001b[0m\u001b[0;34m\"./dogs-vs-cats/train\"\u001b[0m\u001b[0;34m)\u001b[0m\u001b[0;34m\u001b[0m\u001b[0;34m\u001b[0m\u001b[0m\n\u001b[0m\u001b[1;32m      2\u001b[0m \u001b[0;34m\u001b[0m\u001b[0m\n\u001b[1;32m      3\u001b[0m \u001b[0mcategories\u001b[0m\u001b[0;34m=\u001b[0m\u001b[0;34m[\u001b[0m\u001b[0;34m]\u001b[0m\u001b[0;34m\u001b[0m\u001b[0;34m\u001b[0m\u001b[0m\n\u001b[1;32m      4\u001b[0m \u001b[0;32mfor\u001b[0m \u001b[0mf_name\u001b[0m \u001b[0;32min\u001b[0m \u001b[0mfilenames\u001b[0m\u001b[0;34m:\u001b[0m\u001b[0;34m\u001b[0m\u001b[0;34m\u001b[0m\u001b[0m\n\u001b[1;32m      5\u001b[0m     \u001b[0mcategory\u001b[0m\u001b[0;34m=\u001b[0m\u001b[0mf_name\u001b[0m\u001b[0;34m.\u001b[0m\u001b[0msplit\u001b[0m\u001b[0;34m(\u001b[0m\u001b[0;34m'.'\u001b[0m\u001b[0;34m)\u001b[0m\u001b[0;34m[\u001b[0m\u001b[0;36m0\u001b[0m\u001b[0;34m]\u001b[0m\u001b[0;34m\u001b[0m\u001b[0;34m\u001b[0m\u001b[0m\n",
            "\u001b[0;31mFileNotFoundError\u001b[0m: [Errno 2] No such file or directory: './dogs-vs-cats/train'"
          ]
        }
      ]
    },
    {
      "cell_type": "code",
      "source": [
        "from keras.models import Sequential\n",
        "from keras.layers import Conv2D,MaxPooling2D,\\\n",
        "     Dropout,Flatten,Dense,Activation,\\\n",
        "     BatchNormalization\n",
        "\n",
        "model=Sequential()\n",
        "\n",
        "model.add(Conv2D(32,(3,3),activation='relu',input_shape=(Image_Width,Image_Height,Image_Channels)))\n",
        "model.add(BatchNormalization())\n",
        "model.add(MaxPooling2D(pool_size=(2,2)))\n",
        "model.add(Dropout(0.25))\n",
        "\n",
        "model.add(Conv2D(64,(3,3),activation='relu'))\n",
        "model.add(BatchNormalization())\n",
        "model.add(MaxPooling2D(pool_size=(2,2)))\n",
        "model.add(Dropout(0.25))\n",
        "\n",
        "model.add(Conv2D(128,(3,3),activation='relu'))\n",
        "model.add(BatchNormalization())\n",
        "model.add(MaxPooling2D(pool_size=(2,2)))\n",
        "model.add(Dropout(0.25))\n",
        "\n",
        "model.add(Flatten())\n",
        "model.add(Dense(512,activation='relu'))\n",
        "model.add(BatchNormalization())\n",
        "model.add(Dropout(0.5))\n",
        "model.add(Dense(2,activation='softmax'))\n",
        "\n",
        "model.compile(loss='categorical_crossentropy',\n",
        "  optimizer='rmsprop',metrics=['accuracy'])"
      ],
      "metadata": {
        "id": "6Cs1kEkXWAnU"
      },
      "execution_count": null,
      "outputs": []
    },
    {
      "cell_type": "markdown",
      "source": [],
      "metadata": {
        "id": "oVA650lVWFEL"
      }
    },
    {
      "cell_type": "code",
      "source": [
        "model.summary()"
      ],
      "metadata": {
        "id": "9l9zW5wNWGEL"
      },
      "execution_count": null,
      "outputs": []
    },
    {
      "cell_type": "code",
      "source": [
        "from keras.callbacks import EarlyStopping, ReduceLROnPlateau\n",
        "earlystop = EarlyStopping(patience = 10)\n",
        "learning_rate_reduction = ReduceLROnPlateau(monitor = 'val_acc',patience = 2,verbose = 1,factor = 0.5,min_lr = 0.00001)\n",
        "callbacks = [earlystop,learning_rate_reduction]"
      ],
      "metadata": {
        "id": "Z1b_rvMaWIhT"
      },
      "execution_count": null,
      "outputs": []
    },
    {
      "cell_type": "code",
      "source": [
        "df[\"category\"] = df[\"category\"].replace({0:'cat',1:'dog'})\n",
        "train_df,validate_df = train_test_split(df,test_size=0.20,\n",
        "  random_state=42)\n",
        "\n",
        "train_df = train_df.reset_index(drop=True)\n",
        "validate_df = validate_df.reset_index(drop=True)\n",
        "\n",
        "total_train=train_df.shape[0]\n",
        "total_validate=validate_df.shape[0]\n",
        "batch_size=15"
      ],
      "metadata": {
        "id": "U2-ZvXCBWKeO"
      },
      "execution_count": null,
      "outputs": []
    },
    {
      "cell_type": "code",
      "source": [
        "train_datagen = ImageDataGenerator(rotation_range=15,\n",
        "                                rescale=1./255,\n",
        "                                shear_range=0.1,\n",
        "                                zoom_range=0.2,\n",
        "                                horizontal_flip=True,\n",
        "                                width_shift_range=0.1,\n",
        "                                height_shift_range=0.1\n",
        "                                )\n",
        "\n",
        "train_generator = train_datagen.flow_from_dataframe(train_df,\n",
        "                                                 \"./dogs-vs-cats/train/\",x_col='filename',y_col='category',\n",
        "                                                 target_size=Image_Size,\n",
        "                                                 class_mode='categorical',\n",
        "                                                 batch_size=batch_size)\n",
        "\n",
        "validation_datagen = ImageDataGenerator(rescale=1./255)\n",
        "validation_generator = validation_datagen.flow_from_dataframe(\n",
        "    validate_df,\n",
        "    \"./dogs-vs-cats/train/\",\n",
        "    x_col='filename',\n",
        "    y_col='category',\n",
        "    target_size=Image_Size,\n",
        "    class_mode='categorical',\n",
        "    batch_size=batch_size\n",
        ")\n",
        "\n",
        "test_datagen = ImageDataGenerator(rotation_range=15,\n",
        "                                rescale=1./255,\n",
        "                                shear_range=0.1,\n",
        "                                zoom_range=0.2,\n",
        "                                horizontal_flip=True,\n",
        "                                width_shift_range=0.1,\n",
        "                                height_shift_range=0.1)\n",
        "\n",
        "test_generator = train_datagen.flow_from_dataframe(train_df,\n",
        "                                                 \"./dogs-vs-cats/test/\",x_col='filename',y_col='category',\n",
        "                                                 target_size=Image_Size,\n",
        "                                                 class_mode='categorical',\n",
        "                                                 batch_size=batch_size)"
      ],
      "metadata": {
        "id": "5a2-WCv6WN-k"
      },
      "execution_count": null,
      "outputs": []
    },
    {
      "cell_type": "code",
      "source": [
        "epochs=10\n",
        "history = model.fit_generator(\n",
        "    train_generator,\n",
        "    epochs=epochs,\n",
        "    validation_data=validation_generator,\n",
        "    validation_steps=total_validate//batch_size,\n",
        "    steps_per_epoch=total_train//batch_size,\n",
        "    callbacks=callbacks\n",
        ")"
      ],
      "metadata": {
        "id": "_82HdY6oWPi7"
      },
      "execution_count": null,
      "outputs": []
    },
    {
      "cell_type": "code",
      "source": [
        "model.save(\"model1_catsVSdogs_10epoch.h5\")"
      ],
      "metadata": {
        "id": "QXQFq0Y-WRR7"
      },
      "execution_count": null,
      "outputs": []
    },
    {
      "cell_type": "code",
      "source": [
        "test_filenames = os.listdir(\"./dogs-vs-cats/test1\")\n",
        "test_df = pd.DataFrame({\n",
        "    'filename': test_filenames\n",
        "})\n",
        "nb_samples = test_df.shape[0]"
      ],
      "metadata": {
        "id": "iJdm2dcJWSOL"
      },
      "execution_count": null,
      "outputs": []
    },
    {
      "cell_type": "code",
      "source": [
        "predict = model.predict_generator(test_generator, steps=np.ceil(nb_samples/batch_size))"
      ],
      "metadata": {
        "id": "WjXgNuejWTTD"
      },
      "execution_count": null,
      "outputs": []
    },
    {
      "cell_type": "code",
      "source": [
        "test_df['category'] = np.argmax(predict, axis=-1)\n",
        "\n",
        "label_map = dict((v,k) for k,v in train_generator.class_indices.items())\n",
        "test_df['category'] = test_df['category'].replace(label_map)\n",
        "\n",
        "test_df['category'] = test_df['category'].replace({ 'dog': 1, 'cat': 0 })"
      ],
      "metadata": {
        "id": "tC8IokZFWVTj"
      },
      "execution_count": null,
      "outputs": []
    },
    {
      "cell_type": "code",
      "source": [
        "sample_test = test_df.head(18)\n",
        "sample_test.head()\n",
        "plt.figure(figsize=(12, 24))\n",
        "for index, row in sample_test.iterrows():\n",
        "    filename = row['filename']\n",
        "    category = row['category']\n",
        "    img = load_img(\"./dogs-vs-cats/test1/\"+filename, target_size=Image_Size)\n",
        "    plt.subplot(6, 3, index+1)\n",
        "    plt.imshow(img)\n",
        "    plt.xlabel(filename + '(' + \"{}\".format(category) + ')' )\n",
        "plt.tight_layout()\n",
        "plt.show()"
      ],
      "metadata": {
        "id": "InKwExdoWWOK"
      },
      "execution_count": null,
      "outputs": []
    },
    {
      "cell_type": "code",
      "source": [
        "results={\n",
        "    0:'cat',\n",
        "    1:'dog'\n",
        "}\n",
        "from PIL import Image\n",
        "import numpy as np\n",
        "im=Image.open(\"__image_path_TO_custom_image\")\n",
        "im=im.resize(Image_Size)\n",
        "im=np.expand_dims(im,axis=0)\n",
        "im=np.array(im)\n",
        "im=im/255\n",
        "pred=model.predict_classes([im])[0]\n",
        "print(pred,results[pred])"
      ],
      "metadata": {
        "id": "YUKABauYWXUS"
      },
      "execution_count": null,
      "outputs": []
    },
    {
      "cell_type": "code",
      "source": [
        "sudo apt-get install python3-tk"
      ],
      "metadata": {
        "id": "f57S63DHWYjz"
      },
      "execution_count": null,
      "outputs": []
    },
    {
      "cell_type": "code",
      "source": [
        "import tkinter as tk\n",
        "from tkinter import filedialog\n",
        "from tkinter import *\n",
        "from PIL import ImageTk, Image\n",
        "import numpy\n",
        "\n",
        "from keras.models import load_model\n",
        "model = load_model('model1_catsVSdogs_10epoch.h5')\n",
        "#dictionary to label all traffic signs class.\n",
        "classes = {\n",
        "    0:'its a cat',\n",
        "    1:'its a dog',\n",
        "\n",
        "}\n",
        "#initialise GUI\n",
        "top=tk.Tk()\n",
        "top.geometry('800x600')\n",
        "top.title('CatsVSDogs Classification')\n",
        "top.configure(background='#CDCDCD')\n",
        "label=Label(top,background='#CDCDCD', font=('arial',15,'bold'))\n",
        "sign_image = Label(top)\n",
        "def classify(file_path):\n",
        "    global label_packed\n",
        "    image = Image.open(file_path)\n",
        "    image = image.resize((128,128))\n",
        "    image = numpy.expand_dims(image, axis=0)\n",
        "    image = numpy.array(image)\n",
        "    image = image/255\n",
        "    pred = model.predict_classes([image])[0]\n",
        "    sign = classes[pred]\n",
        "    print(sign)\n",
        "    label.configure(foreground='#011638', text=sign)\n",
        "def show_classify_button(file_path):\n",
        "    classify_b=Button(top,text=\"Classify Image\",\n",
        "   command=lambda: classify(file_path),\n",
        "   padx=10,pady=5)\n",
        "    classify_b.configure(background='#364156', foreground='white',\n",
        "font=('arial',10,'bold'))\n",
        "    classify_b.place(relx=0.79,rely=0.46)\n",
        "\n",
        "def upload_image():\n",
        "    try:\n",
        "        file_path=filedialog.askopenfilename()\n",
        "        uploaded=Image.open(file_path)\n",
        "        uploaded.thumbnail(((top.winfo_width()/2.25),\n",
        "    (top.winfo_height()/2.25)))\n",
        "        im=ImageTk.PhotoImage(uploaded)\n",
        "        sign_image.configure(image=im)\n",
        "        sign_image.image=im\n",
        "        label.configure(text='')\n",
        "        show_classify_button(file_path)\n",
        "    except:\n",
        "        pass\n",
        "upload=Button(top,text=\"Upload an image\",command=upload_image,padx=10,pady=5)\n",
        "upload.configure(background='#364156', foreground='white',font=('arial',10,'bold'))\n",
        "upload.pack(side=BOTTOM,pady=50)\n",
        "sign_image.pack(side=BOTTOM,expand=True)\n",
        "label.pack(side=BOTTOM,expand=True)\n",
        "heading = Label(top, text=\"CatsVSDogs Classification\",pady=20, font=('arial',20,'bold'))\n",
        "heading.configure(background='#CDCDCD',foreground='#364156')\n",
        "heading.pack()\n",
        "top.mainloop()"
      ],
      "metadata": {
        "id": "P07H3VyuWZfM"
      },
      "execution_count": null,
      "outputs": []
    }
  ]
}